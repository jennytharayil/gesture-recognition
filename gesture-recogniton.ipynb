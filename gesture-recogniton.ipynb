{
 "cells": [
  {
   "cell_type": "markdown",
   "metadata": {},
   "source": [
    "# Gesture Recognition\n",
    "Objective is to build a 3D convolution model to detect 5 gestures correctly"
   ]
  },
  {
   "cell_type": "code",
   "execution_count": 1,
   "metadata": {},
   "outputs": [
    {
     "name": "stderr",
     "output_type": "stream",
     "text": [
      "/usr/lib/python3/dist-packages/scipy/__init__.py:146: UserWarning: A NumPy version >=1.17.3 and <1.25.0 is required for this version of SciPy (detected version 1.25.2\n",
      "  warnings.warn(f\"A NumPy version >={np_minversion} and <{np_maxversion}\"\n",
      "2024-02-06 08:19:01.719967: I tensorflow/core/util/port.cc:113] oneDNN custom operations are on. You may see slightly different numerical results due to floating-point round-off errors from different computation orders. To turn them off, set the environment variable `TF_ENABLE_ONEDNN_OPTS=0`.\n",
      "2024-02-06 08:19:01.767224: I external/local_tsl/tsl/cuda/cudart_stub.cc:31] Could not find cuda drivers on your machine, GPU will not be used.\n",
      "2024-02-06 08:19:02.022156: E external/local_xla/xla/stream_executor/cuda/cuda_dnn.cc:9261] Unable to register cuDNN factory: Attempting to register factory for plugin cuDNN when one has already been registered\n",
      "2024-02-06 08:19:02.022248: E external/local_xla/xla/stream_executor/cuda/cuda_fft.cc:607] Unable to register cuFFT factory: Attempting to register factory for plugin cuFFT when one has already been registered\n",
      "2024-02-06 08:19:02.070401: E external/local_xla/xla/stream_executor/cuda/cuda_blas.cc:1515] Unable to register cuBLAS factory: Attempting to register factory for plugin cuBLAS when one has already been registered\n",
      "2024-02-06 08:19:02.178668: I external/local_tsl/tsl/cuda/cudart_stub.cc:31] Could not find cuda drivers on your machine, GPU will not be used.\n",
      "2024-02-06 08:19:02.179838: I tensorflow/core/platform/cpu_feature_guard.cc:182] This TensorFlow binary is optimized to use available CPU instructions in performance-critical operations.\n",
      "To enable the following instructions: AVX2 AVX512F AVX512_VNNI FMA, in other operations, rebuild TensorFlow with the appropriate compiler flags.\n",
      "2024-02-06 08:19:02.945721: W tensorflow/compiler/tf2tensorrt/utils/py_utils.cc:38] TF-TRT Warning: Could not find TensorRT\n"
     ]
    }
   ],
   "source": [
    "import numpy as np\n",
    "import os\n",
    "import datetime\n",
    "import os\n",
    "from imageio import imread\n",
    "from skimage.transform import resize\n",
    "from tensorflow import keras\n",
    "import tensorflow as tf\n",
    "import random as rn\n",
    "np.random.seed(30)\n",
    "rn.seed(30)\n",
    "tf.random.set_seed(30)"
   ]
  },
  {
   "cell_type": "markdown",
   "metadata": {},
   "source": [
    "We set the random seed so that the results don't vary drastically."
   ]
  },
  {
   "cell_type": "code",
   "execution_count": 2,
   "metadata": {},
   "outputs": [],
   "source": [
    "np.random.seed(30)\n",
    "rn.seed(30)\n",
    "tf.random.set_seed(30)"
   ]
  },
  {
   "cell_type": "markdown",
   "metadata": {},
   "source": [
    "Read the folder namesfor training and validation. Note that you set batch_size also here for efficient usage of GPU"
   ]
  },
  {
   "cell_type": "code",
   "execution_count": 3,
   "metadata": {},
   "outputs": [],
   "source": [
    "train_doc = np.random.permutation(open('Project_data/train.csv').readlines())\n",
    "val_doc = np.random.permutation(open('Project_data/val.csv').readlines())\n",
    "batch_size = 39"
   ]
  },
  {
   "cell_type": "code",
   "execution_count": 4,
   "metadata": {},
   "outputs": [],
   "source": [
    "def get_image_spec(nb_frames, x, y):\n",
    "    return [np.round(np.linspace(0, 29, nb_frames)).astype('int'), x, y]\n",
    "\n",
    "\n",
    "img_specs = get_image_spec(20, 100, 100)"
   ]
  },
  {
   "cell_type": "markdown",
   "metadata": {},
   "source": [
    "## Generator\n",
    "\n",
    "In this  we are going to pre-process the images as the images are of different dimensions. "
   ]
  },
  {
   "cell_type": "code",
   "execution_count": 5,
   "metadata": {},
   "outputs": [],
   "source": [
    "def get_batch_labels_and_data(source_path, t, batch, batch_size, img_specs):\n",
    "    x, y, z = len(img_specs[0]), img_specs[1], img_specs[2]\n",
    "    img_idx = img_specs[0]  \n",
    "    batch_data = np.zeros((batch_size, x, y, z, 3)) \n",
    "    batch_labels = np.zeros((batch_size, 5))  \n",
    "    \n",
    "    for folder in range(batch_size):  \n",
    "        imgs = os.listdir('{0}/{1}'.format(source_path, t[folder + (batch * batch_size)].split(';')[0])) \n",
    "        \n",
    "        for idx, item in enumerate(img_idx):  \n",
    "            image = imread('{0}/{1}/{2}'.format(source_path, t[folder + (batch * batch_size)].strip().split(';')[0], imgs[item])).astype(np.float32)\n",
    "            \n",
    "            \n",
    "            if image.shape[0] != image.shape[1]:\n",
    "                image = image[:120, 20:140]\n",
    "            image = resize(image, (y, z))\n",
    "            \n",
    "            batch_data[folder, idx, :, :, 0] = image[:, :, 0] / 255.0  \n",
    "            batch_data[folder, idx, :, :, 1] = image[:, :, 1] / 255.0  \n",
    "            batch_data[folder, idx, :, :, 2] = image[:, :, 2] / 255.0  \n",
    "        \n",
    "        batch_labels[folder, int(t[folder + (batch * batch_size)].strip().split(';')[2])] = 1\n",
    "    \n",
    "    return batch_data, batch_labels\n",
    "\n",
    "\n",
    "def generator(source_path, folder_list, batch_size, img_specs=img_specs):\n",
    "    print(f\"Source Path: {source_path}; Batch Size: {batch_size}\")\n",
    "    while True:\n",
    "        t = np.random.permutation(folder_list)\n",
    "        num_batches = int(len(folder_list) / batch_size)\n",
    "        for batch in range(num_batches):  \n",
    "            yield get_batch_labels_and_data(source_path, t, batch, batch_size, img_specs)  \n",
    "            \n",
    "        if len(folder_list) % batch_size != 0:\n",
    "            batch_size = len(folder_list) % batch_size\n",
    "            yield get_batch_labels_and_data(source_path, t, batch, batch_size, img_specs)  "
   ]
  },
  {
   "cell_type": "markdown",
   "metadata": {},
   "source": [
    "Here a video is represented in the generator as (no.of images, height, width, no. of channels)"
   ]
  },
  {
   "cell_type": "code",
   "execution_count": 6,
   "metadata": {},
   "outputs": [
    {
     "name": "stdout",
     "output_type": "stream",
     "text": [
      "No. of training sets: 663\n",
      "No of validation sets: 100\n",
      "No. of  epcohs: 20\n"
     ]
    }
   ],
   "source": [
    "curr_dt_time = datetime.datetime.now()\n",
    "train_path = 'Project_data/train'\n",
    "val_path = 'Project_data/val'\n",
    "num_train_sequences = len(train_doc)\n",
    "print(f\"No. of training sets: {num_train_sequences}\")\n",
    "num_val_sequences = len(val_doc)\n",
    "print(f\"No of validation sets: {num_val_sequences}\")\n",
    "num_epochs = 20 # choose the number of epochs\n",
    "print(f\"No. of  epcohs: {num_epochs}\")"
   ]
  },
  {
   "cell_type": "markdown",
   "metadata": {},
   "source": [
    "## Model\n",
    "Make a model with different features provided by Keras. Remember that the last layer is softmax. The model is designed to give good accuracy"
   ]
  },
  {
   "cell_type": "code",
   "execution_count": 7,
   "metadata": {},
   "outputs": [],
   "source": [
    "from tensorflow.keras.models import Sequential\n",
    "from tensorflow.keras.layers import Activation\n",
    "from tensorflow.keras.layers import BatchNormalization\n",
    "from tensorflow.keras.layers import Conv2D\n",
    "from tensorflow.keras.layers import Conv3D\n",
    "from tensorflow.keras.layers import ConvLSTM2D\n",
    "from tensorflow.keras.layers import Dense\n",
    "from tensorflow.keras.layers import Dropout\n",
    "from tensorflow.keras.layers import Flatten\n",
    "from tensorflow.keras.layers import GlobalAveragePooling2D\n",
    "from tensorflow.keras.layers import GlobalAveragePooling3D\n",
    "from tensorflow.keras.layers import GRU\n",
    "from tensorflow.keras.layers import LSTM\n",
    "from tensorflow.keras.layers import MaxPooling3D, MaxPooling2D\n",
    "from tensorflow.keras.layers import TimeDistributed\n",
    "\n",
    "from tensorflow.keras.callbacks import ModelCheckpoint\n",
    "from tensorflow.keras.callbacks import ReduceLROnPlateau\n",
    "\n",
    "from tensorflow.keras import optimizers"
   ]
  },
  {
   "cell_type": "code",
   "execution_count": 8,
   "metadata": {},
   "outputs": [],
   "source": [
    "input_shape = (len(img_specs[0]), img_specs[1], img_specs[2], 3)"
   ]
  },
  {
   "cell_type": "markdown",
   "metadata": {},
   "source": [
    "### Experiment 1:  Model - 1:"
   ]
  },
  {
   "cell_type": "code",
   "execution_count": 9,
   "metadata": {},
   "outputs": [],
   "source": [
    "# write your model here\n",
    "\n",
    "# model 1 -- base model\n",
    "\n",
    "# model = Sequential()\n",
    "\n",
    "# model.add(Conv3D(32, kernel_size=3, activation='relu', input_shape=input_shape))\n",
    "\n",
    "# model.add(Conv3D(63, kernel_size=3, activation='relu'))\n",
    "# model.add(MaxPooling3D(pool_size=2))\n",
    "\n",
    "# model.add(Flatten())\n",
    "# model.add(Dense(256, activation='relu'))\n",
    "# model.add(Dense(5, activation='softmax'))"
   ]
  },
  {
   "cell_type": "markdown",
   "metadata": {},
   "source": [
    "Number of Epochs: 20 <br />\n",
    "Train accuracy: 0.20 and Validation accuracy: 0.41 <br />\n",
    "As the the model is not able to learn, need to add add more layers"
   ]
  },
  {
   "cell_type": "markdown",
   "metadata": {},
   "source": [
    "### Experiment 2: Model - 2 & Model 3"
   ]
  },
  {
   "cell_type": "code",
   "execution_count": 10,
   "metadata": {},
   "outputs": [],
   "source": [
    "# model 2 -- increasing the number of layers\n",
    "\n",
    "# model = Sequential()\n",
    "\n",
    "# model.add(Conv3D(16, (3, 3, 3), padding='same',input_shape=input_shape))\n",
    "# model.add(Activation('relu'))\n",
    "# model.add(BatchNormalization())\n",
    "        \n",
    "# model.add(Conv3D(16, (3, 3, 3), padding='same',input_shape=input_shape))\n",
    "# model.add(Activation('relu'))\n",
    "# model.add(BatchNormalization())\n",
    "# model.add(MaxPooling3D(pool_size=(2, 2, 2)))\n",
    "\n",
    "# model.add(Conv3D(32, (3, 3, 3), padding='same'))\n",
    "# model.add(Activation('relu'))\n",
    "# model.add(BatchNormalization())\n",
    "        \n",
    "# model.add(Conv3D(32, (3, 3, 3), padding='same'))\n",
    "# model.add(Activation('relu'))\n",
    "# model.add(BatchNormalization())\n",
    "# model.add(MaxPooling3D(pool_size=(2, 2, 2)))\n",
    "\n",
    "# model.add(Conv3D(64, (3, 3, 3), padding='same'))\n",
    "# model.add(Activation('relu'))\n",
    "# model.add(BatchNormalization())\n",
    "        \n",
    "# model.add(Conv3D(64, (3, 3, 3), padding='same'))\n",
    "# model.add(Activation('relu'))\n",
    "# model.add(BatchNormalization())\n",
    "# model.add(MaxPooling3D(pool_size=(2, 2, 2)))\n",
    "\n",
    "# model.add(Conv3D(128, (3, 3, 3), padding='same'))\n",
    "# model.add(Activation('relu'))\n",
    "# model.add(BatchNormalization())\n",
    "        \n",
    "# model.add(Conv3D(128, (3, 3, 3), padding='same'))\n",
    "# model.add(Activation('relu'))\n",
    "# model.add(BatchNormalization())\n",
    "# model.add(MaxPooling3D(pool_size=(2, 2, 2)))\n",
    "\n",
    "# model.add(Flatten())\n",
    "# model.add(Dense(64, activation='relu'))\n",
    "# model.add(BatchNormalization())\n",
    "# model.add(Dropout(0.25))\n",
    "\n",
    "# model.add(Dense(63, activation='relu'))\n",
    "# model.add(BatchNormalization())\n",
    "# model.add(Dropout(0.25))\n",
    "\n",
    "# model.add(Dense(5, activation='softmax'))\n",
    "\n",
    "# model 3 -- reducing the number of parameters\n",
    "\n",
    "# model = Sequential()\n",
    "\n",
    "# model.add(Conv3D(16, (3, 3, 3), padding='same',input_shape=input_shape))\n",
    "# model.add(Activation('relu'))\n",
    "# model.add(BatchNormalization())\n",
    "# model.add(MaxPooling3D(pool_size=(2, 2, 2)))\n",
    "\n",
    "# model.add(Conv3D(32, (2, 2, 2), padding='same'))\n",
    "# model.add(Activation('relu'))\n",
    "# model.add(BatchNormalization())\n",
    "# model.add(MaxPooling3D(pool_size=(2, 2, 2)))\n",
    "\n",
    "# model.add(Conv3D(64, (2, 2, 2), padding='same'))\n",
    "# model.add(Activation('relu'))\n",
    "# model.add(BatchNormalization())\n",
    "# model.add(MaxPooling3D(pool_size=(2, 2, 2)))\n",
    "\n",
    "# model.add(Conv3D(128, (2, 2, 2), padding='same'))\n",
    "# model.add(Activation('relu'))\n",
    "# model.add(BatchNormalization())\n",
    "# model.add(MaxPooling3D(pool_size=(2, 2, 2)))\n",
    "        \n",
    "# model.add(Flatten())\n",
    "# model.add(Dense(64,activation='relu'))\n",
    "# model.add(BatchNormalization())\n",
    "# model.add(Dropout(0.25))\n",
    "\n",
    "# model.add(Dense(64, activation='relu'))\n",
    "# model.add(BatchNormalization())\n",
    "# model.add(Dropout(0.25))\n",
    "\n",
    "# model.add(Dense(5, activation='softmax'))"
   ]
  },
  {
   "cell_type": "markdown",
   "metadata": {},
   "source": [
    "Both models are having 20 Epochs.\n",
    "Train accuracy of .61 and .97\n",
    "Test accuracy .75 and .83\n",
    "\n",
    "As the model 2 train accuracy is sub-par and model 2 seems to be overfittung lets try with reduced no. of parameters"
   ]
  },
  {
   "cell_type": "markdown",
   "metadata": {},
   "source": [
    "### Experiment 3: Model - 4"
   ]
  },
  {
   "cell_type": "code",
   "execution_count": 11,
   "metadata": {},
   "outputs": [],
   "source": [
    "# model 4 -- reducing even more trainable parameters\n",
    "\n",
    "# model = Sequential()\n",
    "\n",
    "# model.add(Conv3D(16, (3, 3, 3), padding='same',input_shape=input_shape))\n",
    "# model.add(Activation('relu'))\n",
    "# model.add(BatchNormalization())\n",
    "# model.add(MaxPooling3D(pool_size=(2, 2, 2)))\n",
    "\n",
    "# model.add(Conv3D(32, (3, 3, 3), padding='same'))\n",
    "# model.add(Activation('relu'))\n",
    "# model.add(BatchNormalization())\n",
    "# model.add(MaxPooling3D(pool_size=(2, 2, 2)))\n",
    "\n",
    "# model.add(Conv3D(64, (2, 2, 2), padding='same'))\n",
    "# model.add(Activation('relu'))\n",
    "# model.add(BatchNormalization())\n",
    "# model.add(MaxPooling3D(pool_size=(2, 2, 2)))\n",
    "\n",
    "# model.add(Conv3D(128, (2, 2, 2), padding='same'))\n",
    "# model.add(Activation('relu'))\n",
    "# model.add(BatchNormalization())\n",
    "# model.add(MaxPooling3D(pool_size=(2, 2, 2)))\n",
    "        \n",
    "# model.add(Flatten())\n",
    "# model.add(Dense(64, activation='relu'))\n",
    "# model.add(BatchNormalization())\n",
    "# model.add(Dropout(0.25))\n",
    "\n",
    "# model.add(Dense(64, activation='relu'))\n",
    "# model.add(BatchNormalization())\n",
    "# model.add(Dropout(0.25))\n",
    "\n",
    "# model.add(Dense(5, activation='softmax'))"
   ]
  },
  {
   "cell_type": "markdown",
   "metadata": {},
   "source": [
    "Number of Epochs: 20\n",
    "Train accuracuy: 0.17 and Validation accuracy: 0.5\n",
    "Poor train efficiency, seems to be underfitting. Need to try by increasing the Epochs"
   ]
  },
  {
   "cell_type": "markdown",
   "metadata": {},
   "source": [
    "### Experiment 4: Model - 5"
   ]
  },
  {
   "cell_type": "code",
   "execution_count": 12,
   "metadata": {},
   "outputs": [],
   "source": [
    "# model - 5 -- Increasing the number of parameters\n",
    "\n",
    "# model = Sequential()\n",
    "\n",
    "# model.add(Conv3D(32, kernel_size=3, activation='relu', input_shape=input_shape))\n",
    "# model.add(Conv3D(64, kernel_size=3, activation='relu'))\n",
    "# model.add(MaxPooling3D(pool_size=(2, 2, 2)))\n",
    "# model.add(BatchNormalization())\n",
    "\n",
    "# model.add(Conv3D(128, kernel_size=3, activation='relu'))\n",
    "# model.add(MaxPooling3D(pool_size=(1, 2, 2)))\n",
    "# model.add(BatchNormalization())\n",
    "\n",
    "# model.add(Conv3D(256, kernel_size=(1, 3, 3), activation='relu'))\n",
    "# model.add(MaxPooling3D(pool_size=(1, 2, 2)))\n",
    "# model.add(BatchNormalization())\n",
    "\n",
    "# model.add(Conv3D(512, kernel_size=(1, 3, 3), activation='relu'))\n",
    "# model.add(Conv3D(512, kernel_size=(1, 3, 3), activation='relu'))\n",
    "# model.add(MaxPooling3D(pool_size=(1, 2, 2)))\n",
    "# model.add(BatchNormalization())\n",
    "\n",
    "# model.add(Flatten())\n",
    "# model.add(Dense(512, activation='relu'))\n",
    "# model.add(BatchNormalization())\n",
    "# model.add(Dense(5, activation='softmax'))"
   ]
  },
  {
   "cell_type": "markdown",
   "metadata": {},
   "source": [
    "Number of Epochs: 40\n",
    "Training accuracy: 1.00 and Validation accuracy: 0.91\n",
    "Model is overfitting"
   ]
  },
  {
   "cell_type": "markdown",
   "metadata": {},
   "source": [
    "### Experiment 5: Model - 6 and Model -7"
   ]
  },
  {
   "cell_type": "code",
   "execution_count": 13,
   "metadata": {},
   "outputs": [],
   "source": [
    "# model - 6 -- Reducing number of parameters and re-introducing dropout layers\n",
    "\n",
    "# model = Sequential()\n",
    "\n",
    "# model.add(Conv3D(16, (5, 5, 5), activation='relu', input_shape=input_shape))\n",
    "# model.add(MaxPooling3D((2, 2, 2), padding='same'))\n",
    "# model.add(BatchNormalization())\n",
    "\n",
    "# model.add(Conv3D(32, (3, 3, 3), activation='relu'))\n",
    "# model.add(MaxPooling3D(pool_size=(1, 2, 2), padding='same'))\n",
    "# model.add(BatchNormalization())\n",
    "\n",
    "# model.add(Conv3D(64, (3, 3, 3), activation='relu'))\n",
    "# model.add(MaxPooling3D(pool_size=(1, 2, 2), padding='same'))\n",
    "# model.add(BatchNormalization())\n",
    "\n",
    "# model.add(Flatten())\n",
    "# model.add(Dense(128, activation='relu'))\n",
    "# model.add(BatchNormalization())\n",
    "# model.add(Dropout(0.2))\n",
    "\n",
    "# model.add(Dense(64, activation='relu'))\n",
    "# model.add(BatchNormalization())\n",
    "# model.add(Dropout(0.2))\n",
    "\n",
    "# model.add(Dense(5, activation='softmax'))\n",
    "\n",
    "# model - 7 -- Increasing the number of Droupout layers and replaing Flatten with GlobalAveragePooling3D\n",
    "\n",
    "# model = Sequential()\n",
    "\n",
    "# model.add(Conv3D(32, kernel_size=3, activation='relu', input_shape=input_shape))\n",
    "# model.add(Conv3D(64, kernel_size=3, activation='relu'))\n",
    "# model.add(MaxPooling3D(pool_size=(2, 2, 2)))\n",
    "# model.add(BatchNormalization())\n",
    "# model.add(Dropout(0.2))\n",
    "\n",
    "# model.add(Conv3D(128, kernel_size=3, activation='relu'))\n",
    "# model.add(MaxPooling3D(pool_size=(1, 2, 2)))\n",
    "# model.add(BatchNormalization())\n",
    "# model.add(Dropout(0.2))\n",
    "\n",
    "# model.add(Conv3D(256, kernel_size=(1, 3, 3), activation='relu'))\n",
    "# model.add(MaxPooling3D(pool_size=(1, 2, 2)))\n",
    "# model.add(BatchNormalization())\n",
    "# model.add(Dropout(0.2))\n",
    "\n",
    "# model.add(GlobalAveragePooling3D())\n",
    "# model.add(Dense(512, activation='relu'))\n",
    "# model.add(BatchNormalization())\n",
    "# model.add(Dense(5, activation='softmax'))"
   ]
  },
  {
   "cell_type": "markdown",
   "metadata": {},
   "source": [
    "Number of Epochs: 40 \n",
    "Training accuracy: 0.99 for both models and test accuracy of 1.00 and .91 respectively\n",
    "Model 6 seems to be overiftting. Model - 7 even though its giving good results, need to attempt how close can we reach to 1.0 accuracy"
   ]
  },
  {
   "cell_type": "markdown",
   "metadata": {},
   "source": [
    "### Experiment 6 - Model - 8"
   ]
  },
  {
   "cell_type": "code",
   "execution_count": 14,
   "metadata": {},
   "outputs": [],
   "source": [
    "# model - 8 -- CNN with LSTM, reducing the number of epochs to 20\n",
    "\n",
    "# model = Sequential()\n",
    "\n",
    "# model.add(TimeDistributed(Conv2D(16, (3, 3) , padding='same', activation='relu'), input_shape=input_shape))\n",
    "# model.add(TimeDistributed(BatchNormalization()))\n",
    "# model.add(TimeDistributed(MaxPooling2D((2, 2))))\n",
    "        \n",
    "# model.add(TimeDistributed(Conv2D(32, (3, 3) , padding='same', activation='relu')))\n",
    "# model.add(TimeDistributed(BatchNormalization()))\n",
    "# model.add(TimeDistributed(MaxPooling2D((2, 2))))\n",
    "        \n",
    "# model.add(TimeDistributed(Conv2D(64, (3, 3) , padding='same', activation='relu')))\n",
    "# model.add(TimeDistributed(BatchNormalization()))\n",
    "# model.add(TimeDistributed(MaxPooling2D((2, 2))))\n",
    "        \n",
    "# model.add(TimeDistributed(Conv2D(128, (3, 3) , padding='same', activation='relu')))\n",
    "# model.add(TimeDistributed(BatchNormalization()))\n",
    "# model.add(TimeDistributed(MaxPooling2D((2, 2))))\n",
    "        \n",
    "# model.add(TimeDistributed(Conv2D(256, (3, 3) , padding='same', activation='relu')))\n",
    "# model.add(TimeDistributed(BatchNormalization()))\n",
    "# model.add(TimeDistributed(MaxPooling2D((2, 2))))\n",
    "\n",
    "# model.add(TimeDistributed(Flatten()))\n",
    "# model.add(LSTM(64))\n",
    "# model.add(Dropout(0.25))\n",
    "        \n",
    "# model.add(Dense(64,activation='relu'))\n",
    "# model.add(Dropout(0.25))\n",
    "        \n",
    "# model.add(Dense(5, activation='softmax'))"
   ]
  },
  {
   "cell_type": "markdown",
   "metadata": {},
   "source": [
    "Number of Epochs: 20\n",
    "Train accuracy: 0.50 and Validation accuracy: 0.66\n",
    "The accuracy of the model is sub-par. Trying a different architecture -> Conv2D with GRU"
   ]
  },
  {
   "cell_type": "markdown",
   "metadata": {},
   "source": [
    "### Experiment 7 - Model - 9"
   ]
  },
  {
   "cell_type": "code",
   "execution_count": 15,
   "metadata": {},
   "outputs": [],
   "source": [
    "# model - 9 -- TimeDistributed Conv2D + GRU\n",
    "\n",
    "# model = Sequential()\n",
    "\n",
    "# model.add(TimeDistributed(Conv2D(32, (3, 3), activation='relu'), input_shape=input_shape))\n",
    "# model.add(TimeDistributed(MaxPooling2D(2, 2)))\n",
    "# model.add(BatchNormalization())\n",
    "\n",
    "# model.add(TimeDistributed(Conv2D(64, (3, 3), activation='relu')))\n",
    "# model.add(TimeDistributed(MaxPooling2D(2, 2)))\n",
    "# model.add(BatchNormalization())\n",
    "\n",
    "# model.add(TimeDistributed(GlobalAveragePooling2D()))\n",
    "# model.add(TimeDistributed(Dense(63, activation='relu')))\n",
    "# model.add(BatchNormalization())\n",
    "\n",
    "# model.add(GRU(128))\n",
    "# model.add(BatchNormalization())\n",
    "# model.add(Dense(5, activation='relu'))"
   ]
  },
  {
   "cell_type": "markdown",
   "metadata": {},
   "source": [
    "Number of Epochs: 40\n",
    "Train accuracy: 0.96 and Validation accuracy: 0.81\n",
    "The difference between the train and validation accuracy is significant, adding Dropout layers to the model."
   ]
  },
  {
   "cell_type": "markdown",
   "metadata": {},
   "source": [
    "### Experiment 8 - Model - 10 and Model -11"
   ]
  },
  {
   "cell_type": "code",
   "execution_count": 16,
   "metadata": {},
   "outputs": [],
   "source": [
    "# model - 10 -- TimeDistributed Conv2D + GRU\n",
    "\n",
    "# model = Sequential()\n",
    "\n",
    "# model.add(TimeDistributed(Conv2D(32, (3, 3), activation='relu'), input_shape=input_shape))\n",
    "# model.add(TimeDistributed(MaxPooling2D(2, 2)))\n",
    "# model.add(BatchNormalization())\n",
    "\n",
    "# model.add(TimeDistributed(Conv2D(64, (3, 3), activation='relu')))\n",
    "# model.add(TimeDistributed(MaxPooling2D(2, 2)))\n",
    "# model.add(BatchNormalization())\n",
    "\n",
    "# model.add(TimeDistributed(GlobalAveragePooling2D()))\n",
    "# model.add(TimeDistributed(Dense(63, activation='relu')))\n",
    "# model.add(BatchNormalization())\n",
    "# model.add(Dropout(0.2))\n",
    "\n",
    "# model.add(GRU(128))\n",
    "# model.add(BatchNormalization())\n",
    "# model.add(Dense(5, activation='relu'))\n",
    "\n",
    "# model - 11 -- TimeDistributed Conv2D with GlobalAvreagePooling3D\n",
    "\n",
    "# model = Sequential()\n",
    "\n",
    "# model.add(TimeDistributed(Conv2D(32, (3, 3), activation='relu'), input_shape=input_shape))\n",
    "# model.add(TimeDistributed(MaxPooling2D(2, 2)))\n",
    "# model.add(BatchNormalization())\n",
    "\n",
    "# model.add(TimeDistributed(Conv2D(64, (3, 3), activation='relu')))\n",
    "# model.add(TimeDistributed(MaxPooling2D(2, 2)))\n",
    "# model.add(BatchNormalization())\n",
    "\n",
    "# model.add(TimeDistributed(Conv2D(128, (3, 3), activation='relu')))\n",
    "# model.add(TimeDistributed(MaxPooling2D(2, 2)))\n",
    "# model.add(BatchNormalization())\n",
    "\n",
    "# model.add(GlobalAveragePooling3D())\n",
    "# model.add(Dense(256, activation='relu'))\n",
    "# model.add(BatchNormalization())\n",
    "# model.add(Dense(5, activation='softmax'))"
   ]
  },
  {
   "cell_type": "markdown",
   "metadata": {},
   "source": [
    "Number of Epochs: 40\n",
    "Train accuracy: 0.86 and 0.99 and test accuracy: 0.58 and .91\n",
    "Introduce dropout layer to Model-10"
   ]
  },
  {
   "cell_type": "markdown",
   "metadata": {},
   "source": [
    "### Model - 12 - Final Model"
   ]
  },
  {
   "cell_type": "code",
   "execution_count": 17,
   "metadata": {},
   "outputs": [],
   "source": [
    "model = Sequential()\n",
    "\n",
    "model.add(TimeDistributed(Conv2D(32, (3, 3), activation='relu'), input_shape=input_shape))\n",
    "model.add(TimeDistributed(MaxPooling2D(2, 2)))\n",
    "model.add(BatchNormalization())\n",
    "\n",
    "model.add(TimeDistributed(Conv2D(64, (3, 3), activation='relu')))\n",
    "model.add(TimeDistributed(MaxPooling2D(2, 2)))\n",
    "model.add(BatchNormalization())\n",
    "model.add(Dropout(0.25))\n",
    "\n",
    "model.add(TimeDistributed(Conv2D(128, (3, 3), activation='relu')))\n",
    "model.add(TimeDistributed(MaxPooling2D(2, 2)))\n",
    "model.add(BatchNormalization())\n",
    "model.add(Dropout(0.25))\n",
    "\n",
    "model.add(GlobalAveragePooling3D())\n",
    "model.add(Dense(256, activation='relu'))\n",
    "model.add(BatchNormalization())\n",
    "model.add(Dropout(0.5))\n",
    "model.add(Dense(5, activation='softmax'))"
   ]
  },
  {
   "cell_type": "markdown",
   "metadata": {},
   "source": [
    "Number of Epochs: 50\n",
    "Train accuracy: 0.93 and Test Accuracy = 0.91\n",
    "Both the train and validation accuracy are in the range of .9 "
   ]
  },
  {
   "cell_type": "markdown",
   "metadata": {},
   "source": [
    "Compile the model "
   ]
  },
  {
   "cell_type": "code",
   "execution_count": 18,
   "metadata": {},
   "outputs": [
    {
     "name": "stderr",
     "output_type": "stream",
     "text": [
      "WARNING:absl:`lr` is deprecated in Keras optimizer, please use `learning_rate` or use the legacy optimizer, e.g.,tf.keras.optimizers.legacy.Adam.\n"
     ]
    },
    {
     "name": "stdout",
     "output_type": "stream",
     "text": [
      "Model: \"sequential\"\n",
      "_________________________________________________________________\n",
      " Layer (type)                Output Shape              Param #   \n",
      "=================================================================\n",
      " time_distributed (TimeDist  (None, 20, 98, 98, 32)    896       \n",
      " ributed)                                                        \n",
      "                                                                 \n",
      " time_distributed_1 (TimeDi  (None, 20, 49, 49, 32)    0         \n",
      " stributed)                                                      \n",
      "                                                                 \n",
      " batch_normalization (Batch  (None, 20, 49, 49, 32)    128       \n",
      " Normalization)                                                  \n",
      "                                                                 \n",
      " time_distributed_2 (TimeDi  (None, 20, 47, 47, 64)    18496     \n",
      " stributed)                                                      \n",
      "                                                                 \n",
      " time_distributed_3 (TimeDi  (None, 20, 23, 23, 64)    0         \n",
      " stributed)                                                      \n",
      "                                                                 \n",
      " batch_normalization_1 (Bat  (None, 20, 23, 23, 64)    256       \n",
      " chNormalization)                                                \n",
      "                                                                 \n",
      " dropout (Dropout)           (None, 20, 23, 23, 64)    0         \n",
      "                                                                 \n",
      " time_distributed_4 (TimeDi  (None, 20, 21, 21, 128)   73856     \n",
      " stributed)                                                      \n",
      "                                                                 \n",
      " time_distributed_5 (TimeDi  (None, 20, 10, 10, 128)   0         \n",
      " stributed)                                                      \n",
      "                                                                 \n",
      " batch_normalization_2 (Bat  (None, 20, 10, 10, 128)   512       \n",
      " chNormalization)                                                \n",
      "                                                                 \n",
      " dropout_1 (Dropout)         (None, 20, 10, 10, 128)   0         \n",
      "                                                                 \n",
      " global_average_pooling3d (  (None, 128)               0         \n",
      " GlobalAveragePooling3D)                                         \n",
      "                                                                 \n",
      " dense (Dense)               (None, 256)               33024     \n",
      "                                                                 \n",
      " batch_normalization_3 (Bat  (None, 256)               1024      \n",
      " chNormalization)                                                \n",
      "                                                                 \n",
      " dropout_2 (Dropout)         (None, 256)               0         \n",
      "                                                                 \n",
      " dense_1 (Dense)             (None, 5)                 1285      \n",
      "                                                                 \n",
      "=================================================================\n",
      "Total params: 129477 (505.77 KB)\n",
      "Trainable params: 128517 (502.02 KB)\n",
      "Non-trainable params: 960 (3.75 KB)\n",
      "_________________________________________________________________\n",
      "None\n"
     ]
    }
   ],
   "source": [
    "optimiser = optimizers.Adam(lr=0.01)  # write your optimizer\n",
    "model.compile(optimizer=optimiser, loss='categorical_crossentropy', metrics=['categorical_accuracy'])\n",
    "print(model.summary())"
   ]
  },
  {
   "cell_type": "markdown",
   "metadata": {},
   "source": [
    "Let us create the `train_generator` and the `val_generator` which will be used in `.fit_generator`."
   ]
  },
  {
   "cell_type": "code",
   "execution_count": 19,
   "metadata": {},
   "outputs": [],
   "source": [
    "train_generator = generator(train_path, train_doc, batch_size)\n",
    "val_generator = generator(val_path, val_doc, batch_size)"
   ]
  },
  {
   "cell_type": "code",
   "execution_count": 20,
   "metadata": {},
   "outputs": [],
   "source": [
    "model_name = 'model_init_{}/'.format(str(curr_dt_time).replace(' ', '').replace(':', '_'))\n",
    "    \n",
    "if not os.path.exists(model_name):\n",
    "    os.mkdir(model_name)\n",
    "        \n",
    "filepath = model_name + 'model-{epoch:05d}-{loss:.5f}-{categorical_accuracy:.5f}-{val_loss:.5f}-{val_categorical_accuracy:.5f}.h5'\n",
    "\n",
    "checkpoint = ModelCheckpoint(filepath,\n",
    "                             monitor='val_loss',\n",
    "                             verbose=1,\n",
    "                             save_best_only=False,\n",
    "                             save_weights_only=False,\n",
    "                             mode='auto',\n",
    "                             save_freq='epoch')\n",
    "\n",
    "LR = ReduceLROnPlateau(monitor='val_loss', factor=0.2, patience=5, min_lr=0.001, verbose=1)  # write the REducelronplateau code here\n",
    "\n",
    "callbacks_list = [checkpoint, LR]"
   ]
  },
  {
   "cell_type": "code",
   "execution_count": 21,
   "metadata": {},
   "outputs": [],
   "source": [
    "if (num_train_sequences%batch_size) == 0:\n",
    "    steps_per_epoch = int(num_train_sequences/batch_size)\n",
    "else:\n",
    "    steps_per_epoch = (num_train_sequences//batch_size) + 1\n",
    "\n",
    "if (num_val_sequences%batch_size) == 0:\n",
    "    validation_steps = int(num_val_sequences/batch_size)\n",
    "else:\n",
    "    validation_steps = (num_val_sequences//batch_size) + 1"
   ]
  },
  {
   "cell_type": "markdown",
   "metadata": {},
   "source": [
    "Fit the model"
   ]
  },
  {
   "cell_type": "code",
   "execution_count": 22,
   "metadata": {},
   "outputs": [
    {
     "name": "stdout",
     "output_type": "stream",
     "text": [
      "Epochs: 50\n"
     ]
    }
   ],
   "source": [
    "num_epochs =50\n",
    "print(f\"Epochs: {num_epochs}\")"
   ]
  },
  {
   "cell_type": "code",
   "execution_count": 23,
   "metadata": {},
   "outputs": [
    {
     "name": "stderr",
     "output_type": "stream",
     "text": [
      "/tmp/ipykernel_3427/534713445.py:11: DeprecationWarning: Starting with ImageIO v3 the behavior of this function will switch to that of iio.v3.imread. To keep the current behavior (and make this warning disappear) use `import imageio.v2 as imageio` or call `imageio.v2.imread` directly.\n",
      "  image = imread('{0}/{1}/{2}'.format(source_path, t[folder + (batch * batch_size)].strip().split(';')[0], imgs[item])).astype(np.float32)\n"
     ]
    },
    {
     "name": "stdout",
     "output_type": "stream",
     "text": [
      "Source Path: Project_data/train; Batch Size: 39\n",
      "Epoch 1/50\n",
      "17/17 [==============================] - ETA: 0s - loss: 1.7855 - categorical_accuracy: 0.3876Source Path: Project_data/val; Batch Size: 39\n"
     ]
    },
    {
     "name": "stderr",
     "output_type": "stream",
     "text": [
      "2024-02-06 08:20:47.133421: W tensorflow/core/kernels/data/prefetch_autotuner.cc:52] Prefetch autotuner tried to allocate 93600780 bytes after encountering the first element of size 93600780 bytes.This already causes the autotune ram budget to be exceeded. To stay within the ram budget, either increase the ram budget or reduce element size\n"
     ]
    },
    {
     "name": "stdout",
     "output_type": "stream",
     "text": [
      "\n",
      "Epoch 1: saving model to model_init_2024-02-0608_19_04.003306/model-00001-1.78552-0.38763-1.60958-0.21000.h5\n",
      "17/17 [==============================] - 110s 7s/step - loss: 1.7855 - categorical_accuracy: 0.3876 - val_loss: 1.6096 - val_categorical_accuracy: 0.2100 - lr: 0.0010\n",
      "Epoch 2/50\n"
     ]
    },
    {
     "name": "stderr",
     "output_type": "stream",
     "text": [
      "/home/jenny/.local/lib/python3.10/site-packages/keras/src/engine/training.py:3103: UserWarning: You are saving your model as an HDF5 file via `model.save()`. This file format is considered legacy. We recommend using instead the native Keras format, e.g. `model.save('my_model.keras')`.\n",
      "  saving_api.save_model(\n"
     ]
    },
    {
     "name": "stdout",
     "output_type": "stream",
     "text": [
      "17/17 [==============================] - ETA: 0s - loss: 1.3540 - categorical_accuracy: 0.5264\n",
      "Epoch 2: saving model to model_init_2024-02-0608_19_04.003306/model-00002-1.35405-0.52640-1.59697-0.25758.h5\n",
      "17/17 [==============================] - 100s 6s/step - loss: 1.3540 - categorical_accuracy: 0.5264 - val_loss: 1.5970 - val_categorical_accuracy: 0.2576 - lr: 0.0010\n",
      "Epoch 3/50\n",
      "17/17 [==============================] - ETA: 0s - loss: 1.2542 - categorical_accuracy: 0.5656\n",
      "Epoch 3: saving model to model_init_2024-02-0608_19_04.003306/model-00003-1.25421-0.56561-1.79397-0.19444.h5\n",
      "17/17 [==============================] - 96s 6s/step - loss: 1.2542 - categorical_accuracy: 0.5656 - val_loss: 1.7940 - val_categorical_accuracy: 0.1944 - lr: 0.0010\n",
      "Epoch 4/50\n",
      "17/17 [==============================] - ETA: 0s - loss: 1.0161 - categorical_accuracy: 0.6244\n",
      "Epoch 4: saving model to model_init_2024-02-0608_19_04.003306/model-00004-1.01605-0.62443-1.64056-0.25000.h5\n",
      "17/17 [==============================] - 103s 6s/step - loss: 1.0161 - categorical_accuracy: 0.6244 - val_loss: 1.6406 - val_categorical_accuracy: 0.2500 - lr: 0.0010\n",
      "Epoch 5/50\n",
      "17/17 [==============================] - ETA: 0s - loss: 0.9656 - categorical_accuracy: 0.6486\n",
      "Epoch 5: saving model to model_init_2024-02-0608_19_04.003306/model-00005-0.96557-0.64857-1.93273-0.16667.h5\n",
      "17/17 [==============================] - 95s 6s/step - loss: 0.9656 - categorical_accuracy: 0.6486 - val_loss: 1.9327 - val_categorical_accuracy: 0.1667 - lr: 0.0010\n",
      "Epoch 6/50\n",
      "17/17 [==============================] - ETA: 0s - loss: 0.8914 - categorical_accuracy: 0.6742\n",
      "Epoch 6: saving model to model_init_2024-02-0608_19_04.003306/model-00006-0.89143-0.67421-2.10921-0.16667.h5\n",
      "17/17 [==============================] - 100s 6s/step - loss: 0.8914 - categorical_accuracy: 0.6742 - val_loss: 2.1092 - val_categorical_accuracy: 0.1667 - lr: 0.0010\n",
      "Epoch 7/50\n",
      "17/17 [==============================] - ETA: 0s - loss: 0.7949 - categorical_accuracy: 0.7104\n",
      "Epoch 7: saving model to model_init_2024-02-0608_19_04.003306/model-00007-0.79492-0.71041-2.47786-0.16667.h5\n",
      "17/17 [==============================] - 101s 6s/step - loss: 0.7949 - categorical_accuracy: 0.7104 - val_loss: 2.4779 - val_categorical_accuracy: 0.1667 - lr: 0.0010\n",
      "Epoch 8/50\n",
      "17/17 [==============================] - ETA: 0s - loss: 0.8705 - categorical_accuracy: 0.6998\n",
      "Epoch 8: saving model to model_init_2024-02-0608_19_04.003306/model-00008-0.87054-0.69985-2.51504-0.08333.h5\n",
      "17/17 [==============================] - 101s 6s/step - loss: 0.8705 - categorical_accuracy: 0.6998 - val_loss: 2.5150 - val_categorical_accuracy: 0.0833 - lr: 0.0010\n",
      "Epoch 9/50\n",
      "17/17 [==============================] - ETA: 0s - loss: 0.8530 - categorical_accuracy: 0.6953\n",
      "Epoch 9: saving model to model_init_2024-02-0608_19_04.003306/model-00009-0.85297-0.69532-1.74785-0.08333.h5\n",
      "17/17 [==============================] - 105s 6s/step - loss: 0.8530 - categorical_accuracy: 0.6953 - val_loss: 1.7479 - val_categorical_accuracy: 0.0833 - lr: 0.0010\n",
      "Epoch 10/50\n",
      "17/17 [==============================] - ETA: 0s - loss: 0.6411 - categorical_accuracy: 0.7315\n",
      "Epoch 10: saving model to model_init_2024-02-0608_19_04.003306/model-00010-0.64114-0.73152-2.24132-0.00000.h5\n",
      "17/17 [==============================] - 113s 7s/step - loss: 0.6411 - categorical_accuracy: 0.7315 - val_loss: 2.2413 - val_categorical_accuracy: 0.0000e+00 - lr: 0.0010\n",
      "Epoch 11/50\n",
      "17/17 [==============================] - ETA: 0s - loss: 0.6129 - categorical_accuracy: 0.7783\n",
      "Epoch 11: saving model to model_init_2024-02-0608_19_04.003306/model-00011-0.61293-0.77828-1.90631-0.16667.h5\n",
      "17/17 [==============================] - 111s 7s/step - loss: 0.6129 - categorical_accuracy: 0.7783 - val_loss: 1.9063 - val_categorical_accuracy: 0.1667 - lr: 0.0010\n",
      "Epoch 12/50\n",
      "17/17 [==============================] - ETA: 0s - loss: 0.5807 - categorical_accuracy: 0.7828\n",
      "Epoch 12: saving model to model_init_2024-02-0608_19_04.003306/model-00012-0.58071-0.78281-2.33914-0.16667.h5\n",
      "17/17 [==============================] - 115s 7s/step - loss: 0.5807 - categorical_accuracy: 0.7828 - val_loss: 2.3391 - val_categorical_accuracy: 0.1667 - lr: 0.0010\n",
      "Epoch 13/50\n",
      "17/17 [==============================] - ETA: 0s - loss: 0.5346 - categorical_accuracy: 0.8039\n",
      "Epoch 13: saving model to model_init_2024-02-0608_19_04.003306/model-00013-0.53461-0.80392-1.57418-0.16667.h5\n",
      "17/17 [==============================] - 105s 6s/step - loss: 0.5346 - categorical_accuracy: 0.8039 - val_loss: 1.5742 - val_categorical_accuracy: 0.1667 - lr: 0.0010\n",
      "Epoch 14/50\n",
      "17/17 [==============================] - ETA: 0s - loss: 0.5083 - categorical_accuracy: 0.8115\n",
      "Epoch 14: saving model to model_init_2024-02-0608_19_04.003306/model-00014-0.50831-0.81146-1.50524-0.33333.h5\n",
      "17/17 [==============================] - 104s 6s/step - loss: 0.5083 - categorical_accuracy: 0.8115 - val_loss: 1.5052 - val_categorical_accuracy: 0.3333 - lr: 0.0010\n",
      "Epoch 15/50\n",
      "17/17 [==============================] - ETA: 0s - loss: 0.4662 - categorical_accuracy: 0.8145\n",
      "Epoch 15: saving model to model_init_2024-02-0608_19_04.003306/model-00015-0.46621-0.81448-1.83744-0.08333.h5\n",
      "17/17 [==============================] - 102s 6s/step - loss: 0.4662 - categorical_accuracy: 0.8145 - val_loss: 1.8374 - val_categorical_accuracy: 0.0833 - lr: 0.0010\n",
      "Epoch 16/50\n",
      "17/17 [==============================] - ETA: 0s - loss: 0.5528 - categorical_accuracy: 0.8084\n",
      "Epoch 16: saving model to model_init_2024-02-0608_19_04.003306/model-00016-0.55277-0.80845-1.89404-0.33333.h5\n",
      "17/17 [==============================] - 97s 6s/step - loss: 0.5528 - categorical_accuracy: 0.8084 - val_loss: 1.8940 - val_categorical_accuracy: 0.3333 - lr: 0.0010\n",
      "Epoch 17/50\n",
      "17/17 [==============================] - ETA: 0s - loss: 0.4342 - categorical_accuracy: 0.8341\n",
      "Epoch 17: saving model to model_init_2024-02-0608_19_04.003306/model-00017-0.43420-0.83409-1.31495-0.33333.h5\n",
      "17/17 [==============================] - 98s 6s/step - loss: 0.4342 - categorical_accuracy: 0.8341 - val_loss: 1.3149 - val_categorical_accuracy: 0.3333 - lr: 0.0010\n",
      "Epoch 18/50\n",
      "17/17 [==============================] - ETA: 0s - loss: 0.4055 - categorical_accuracy: 0.8507\n",
      "Epoch 18: saving model to model_init_2024-02-0608_19_04.003306/model-00018-0.40553-0.85068-2.45694-0.25000.h5\n",
      "17/17 [==============================] - 97s 6s/step - loss: 0.4055 - categorical_accuracy: 0.8507 - val_loss: 2.4569 - val_categorical_accuracy: 0.2500 - lr: 0.0010\n",
      "Epoch 19/50\n",
      "17/17 [==============================] - ETA: 0s - loss: 0.4197 - categorical_accuracy: 0.8311\n",
      "Epoch 19: saving model to model_init_2024-02-0608_19_04.003306/model-00019-0.41970-0.83107-1.96472-0.08333.h5\n",
      "17/17 [==============================] - 96s 6s/step - loss: 0.4197 - categorical_accuracy: 0.8311 - val_loss: 1.9647 - val_categorical_accuracy: 0.0833 - lr: 0.0010\n",
      "Epoch 20/50\n",
      "17/17 [==============================] - ETA: 0s - loss: 0.4280 - categorical_accuracy: 0.8326\n",
      "Epoch 20: saving model to model_init_2024-02-0608_19_04.003306/model-00020-0.42801-0.83258-2.71705-0.25000.h5\n",
      "17/17 [==============================] - 97s 6s/step - loss: 0.4280 - categorical_accuracy: 0.8326 - val_loss: 2.7171 - val_categorical_accuracy: 0.2500 - lr: 0.0010\n",
      "Epoch 21/50\n",
      "17/17 [==============================] - ETA: 0s - loss: 0.3823 - categorical_accuracy: 0.8477\n",
      "Epoch 21: saving model to model_init_2024-02-0608_19_04.003306/model-00021-0.38228-0.84766-1.23714-0.41667.h5\n",
      "17/17 [==============================] - 94s 6s/step - loss: 0.3823 - categorical_accuracy: 0.8477 - val_loss: 1.2371 - val_categorical_accuracy: 0.4167 - lr: 0.0010\n",
      "Epoch 22/50\n",
      "17/17 [==============================] - ETA: 0s - loss: 0.3401 - categorical_accuracy: 0.8612\n",
      "Epoch 22: saving model to model_init_2024-02-0608_19_04.003306/model-00022-0.34015-0.86124-2.77306-0.25000.h5\n",
      "17/17 [==============================] - 95s 6s/step - loss: 0.3401 - categorical_accuracy: 0.8612 - val_loss: 2.7731 - val_categorical_accuracy: 0.2500 - lr: 0.0010\n",
      "Epoch 23/50\n",
      "17/17 [==============================] - ETA: 0s - loss: 0.2979 - categorical_accuracy: 0.8869\n",
      "Epoch 23: saving model to model_init_2024-02-0608_19_04.003306/model-00023-0.29790-0.88688-1.00079-0.50000.h5\n"
     ]
    },
    {
     "name": "stdout",
     "output_type": "stream",
     "text": [
      "17/17 [==============================] - 95s 6s/step - loss: 0.2979 - categorical_accuracy: 0.8869 - val_loss: 1.0008 - val_categorical_accuracy: 0.5000 - lr: 0.0010\n",
      "Epoch 24/50\n",
      "17/17 [==============================] - ETA: 0s - loss: 0.2935 - categorical_accuracy: 0.8869\n",
      "Epoch 24: saving model to model_init_2024-02-0608_19_04.003306/model-00024-0.29347-0.88688-3.20745-0.00000.h5\n",
      "17/17 [==============================] - 94s 6s/step - loss: 0.2935 - categorical_accuracy: 0.8869 - val_loss: 3.2074 - val_categorical_accuracy: 0.0000e+00 - lr: 0.0010\n",
      "Epoch 25/50\n",
      "17/17 [==============================] - ETA: 0s - loss: 0.3314 - categorical_accuracy: 0.8748\n",
      "Epoch 25: saving model to model_init_2024-02-0608_19_04.003306/model-00025-0.33141-0.87481-1.79436-0.41667.h5\n",
      "17/17 [==============================] - 95s 6s/step - loss: 0.3314 - categorical_accuracy: 0.8748 - val_loss: 1.7944 - val_categorical_accuracy: 0.4167 - lr: 0.0010\n",
      "Epoch 26/50\n",
      "17/17 [==============================] - ETA: 0s - loss: 0.2966 - categorical_accuracy: 0.8899\n",
      "Epoch 26: saving model to model_init_2024-02-0608_19_04.003306/model-00026-0.29655-0.88989-2.00514-0.33333.h5\n",
      "17/17 [==============================] - 95s 6s/step - loss: 0.2966 - categorical_accuracy: 0.8899 - val_loss: 2.0051 - val_categorical_accuracy: 0.3333 - lr: 0.0010\n",
      "Epoch 27/50\n",
      "17/17 [==============================] - ETA: 0s - loss: 0.3072 - categorical_accuracy: 0.8793\n",
      "Epoch 27: saving model to model_init_2024-02-0608_19_04.003306/model-00027-0.30715-0.87934-2.43356-0.16667.h5\n",
      "17/17 [==============================] - 95s 6s/step - loss: 0.3072 - categorical_accuracy: 0.8793 - val_loss: 2.4336 - val_categorical_accuracy: 0.1667 - lr: 0.0010\n",
      "Epoch 28/50\n",
      "17/17 [==============================] - ETA: 0s - loss: 0.2544 - categorical_accuracy: 0.9035\n",
      "Epoch 28: saving model to model_init_2024-02-0608_19_04.003306/model-00028-0.25444-0.90347-0.81431-0.66667.h5\n",
      "17/17 [==============================] - 95s 6s/step - loss: 0.2544 - categorical_accuracy: 0.9035 - val_loss: 0.8143 - val_categorical_accuracy: 0.6667 - lr: 0.0010\n",
      "Epoch 29/50\n",
      "17/17 [==============================] - ETA: 0s - loss: 0.3011 - categorical_accuracy: 0.8869\n",
      "Epoch 29: saving model to model_init_2024-02-0608_19_04.003306/model-00029-0.30106-0.88688-2.71591-0.25000.h5\n",
      "17/17 [==============================] - 94s 6s/step - loss: 0.3011 - categorical_accuracy: 0.8869 - val_loss: 2.7159 - val_categorical_accuracy: 0.2500 - lr: 0.0010\n",
      "Epoch 30/50\n",
      "17/17 [==============================] - ETA: 0s - loss: 0.2348 - categorical_accuracy: 0.9065\n",
      "Epoch 30: saving model to model_init_2024-02-0608_19_04.003306/model-00030-0.23481-0.90649-1.66873-0.33333.h5\n",
      "17/17 [==============================] - 94s 6s/step - loss: 0.2348 - categorical_accuracy: 0.9065 - val_loss: 1.6687 - val_categorical_accuracy: 0.3333 - lr: 0.0010\n",
      "Epoch 31/50\n",
      "17/17 [==============================] - ETA: 0s - loss: 0.2213 - categorical_accuracy: 0.9125\n",
      "Epoch 31: saving model to model_init_2024-02-0608_19_04.003306/model-00031-0.22125-0.91252-0.63975-0.75000.h5\n",
      "17/17 [==============================] - 95s 6s/step - loss: 0.2213 - categorical_accuracy: 0.9125 - val_loss: 0.6397 - val_categorical_accuracy: 0.7500 - lr: 0.0010\n",
      "Epoch 32/50\n",
      "17/17 [==============================] - ETA: 0s - loss: 0.2464 - categorical_accuracy: 0.9110\n",
      "Epoch 32: saving model to model_init_2024-02-0608_19_04.003306/model-00032-0.24642-0.91101-5.42738-0.08333.h5\n",
      "17/17 [==============================] - 97s 6s/step - loss: 0.2464 - categorical_accuracy: 0.9110 - val_loss: 5.4274 - val_categorical_accuracy: 0.0833 - lr: 0.0010\n",
      "Epoch 33/50\n",
      "17/17 [==============================] - ETA: 0s - loss: 0.1819 - categorical_accuracy: 0.9261\n",
      "Epoch 33: saving model to model_init_2024-02-0608_19_04.003306/model-00033-0.18190-0.92609-2.26032-0.33333.h5\n",
      "17/17 [==============================] - 96s 6s/step - loss: 0.1819 - categorical_accuracy: 0.9261 - val_loss: 2.2603 - val_categorical_accuracy: 0.3333 - lr: 0.0010\n",
      "Epoch 34/50\n",
      "17/17 [==============================] - ETA: 0s - loss: 0.2090 - categorical_accuracy: 0.9261\n",
      "Epoch 34: saving model to model_init_2024-02-0608_19_04.003306/model-00034-0.20900-0.92609-1.54153-0.41667.h5\n",
      "17/17 [==============================] - 93s 6s/step - loss: 0.2090 - categorical_accuracy: 0.9261 - val_loss: 1.5415 - val_categorical_accuracy: 0.4167 - lr: 0.0010\n",
      "Epoch 35/50\n",
      "17/17 [==============================] - ETA: 0s - loss: 0.1936 - categorical_accuracy: 0.9351\n",
      "Epoch 35: saving model to model_init_2024-02-0608_19_04.003306/model-00035-0.19358-0.93514-2.76318-0.33333.h5\n",
      "17/17 [==============================] - 95s 6s/step - loss: 0.1936 - categorical_accuracy: 0.9351 - val_loss: 2.7632 - val_categorical_accuracy: 0.3333 - lr: 0.0010\n",
      "Epoch 36/50\n",
      "17/17 [==============================] - ETA: 0s - loss: 0.1988 - categorical_accuracy: 0.9336\n",
      "Epoch 36: saving model to model_init_2024-02-0608_19_04.003306/model-00036-0.19875-0.93363-1.15304-0.58333.h5\n",
      "17/17 [==============================] - 94s 6s/step - loss: 0.1988 - categorical_accuracy: 0.9336 - val_loss: 1.1530 - val_categorical_accuracy: 0.5833 - lr: 0.0010\n",
      "Epoch 37/50\n",
      "17/17 [==============================] - ETA: 0s - loss: 0.2391 - categorical_accuracy: 0.9035\n",
      "Epoch 37: saving model to model_init_2024-02-0608_19_04.003306/model-00037-0.23907-0.90347-1.63637-0.50000.h5\n",
      "17/17 [==============================] - 95s 6s/step - loss: 0.2391 - categorical_accuracy: 0.9035 - val_loss: 1.6364 - val_categorical_accuracy: 0.5000 - lr: 0.0010\n",
      "Epoch 38/50\n",
      "17/17 [==============================] - ETA: 0s - loss: 0.2298 - categorical_accuracy: 0.9125\n",
      "Epoch 38: saving model to model_init_2024-02-0608_19_04.003306/model-00038-0.22978-0.91252-3.31787-0.41667.h5\n",
      "17/17 [==============================] - 94s 6s/step - loss: 0.2298 - categorical_accuracy: 0.9125 - val_loss: 3.3179 - val_categorical_accuracy: 0.4167 - lr: 0.0010\n",
      "Epoch 39/50\n",
      "17/17 [==============================] - ETA: 0s - loss: 0.2538 - categorical_accuracy: 0.9095\n",
      "Epoch 39: saving model to model_init_2024-02-0608_19_04.003306/model-00039-0.25377-0.90950-0.98453-0.66667.h5\n",
      "17/17 [==============================] - 99s 6s/step - loss: 0.2538 - categorical_accuracy: 0.9095 - val_loss: 0.9845 - val_categorical_accuracy: 0.6667 - lr: 0.0010\n",
      "Epoch 40/50\n",
      "17/17 [==============================] - ETA: 0s - loss: 0.1815 - categorical_accuracy: 0.9306\n",
      "Epoch 40: saving model to model_init_2024-02-0608_19_04.003306/model-00040-0.18146-0.93062-3.17928-0.33333.h5\n",
      "17/17 [==============================] - 95s 6s/step - loss: 0.1815 - categorical_accuracy: 0.9306 - val_loss: 3.1793 - val_categorical_accuracy: 0.3333 - lr: 0.0010\n",
      "Epoch 41/50\n",
      "17/17 [==============================] - ETA: 0s - loss: 0.1286 - categorical_accuracy: 0.9502\n",
      "Epoch 41: saving model to model_init_2024-02-0608_19_04.003306/model-00041-0.12856-0.95023-2.47569-0.33333.h5\n",
      "17/17 [==============================] - 95s 6s/step - loss: 0.1286 - categorical_accuracy: 0.9502 - val_loss: 2.4757 - val_categorical_accuracy: 0.3333 - lr: 0.0010\n",
      "Epoch 42/50\n",
      "17/17 [==============================] - ETA: 0s - loss: 0.1519 - categorical_accuracy: 0.9457\n",
      "Epoch 42: saving model to model_init_2024-02-0608_19_04.003306/model-00042-0.15194-0.94570-1.29382-0.66667.h5\n",
      "17/17 [==============================] - 95s 6s/step - loss: 0.1519 - categorical_accuracy: 0.9457 - val_loss: 1.2938 - val_categorical_accuracy: 0.6667 - lr: 0.0010\n",
      "Epoch 43/50\n",
      "17/17 [==============================] - ETA: 0s - loss: 0.1550 - categorical_accuracy: 0.9427\n",
      "Epoch 43: saving model to model_init_2024-02-0608_19_04.003306/model-00043-0.15502-0.94268-1.18434-0.66667.h5\n",
      "17/17 [==============================] - 94s 6s/step - loss: 0.1550 - categorical_accuracy: 0.9427 - val_loss: 1.1843 - val_categorical_accuracy: 0.6667 - lr: 0.0010\n",
      "Epoch 44/50\n",
      "17/17 [==============================] - ETA: 0s - loss: 0.1874 - categorical_accuracy: 0.9351\n",
      "Epoch 44: saving model to model_init_2024-02-0608_19_04.003306/model-00044-0.18735-0.93514-1.13505-0.66667.h5\n",
      "17/17 [==============================] - 95s 6s/step - loss: 0.1874 - categorical_accuracy: 0.9351 - val_loss: 1.1350 - val_categorical_accuracy: 0.6667 - lr: 0.0010\n"
     ]
    },
    {
     "name": "stdout",
     "output_type": "stream",
     "text": [
      "Epoch 45/50\n",
      "17/17 [==============================] - ETA: 0s - loss: 0.1900 - categorical_accuracy: 0.9321\n",
      "Epoch 45: saving model to model_init_2024-02-0608_19_04.003306/model-00045-0.19003-0.93213-0.99155-0.66667.h5\n",
      "17/17 [==============================] - 95s 6s/step - loss: 0.1900 - categorical_accuracy: 0.9321 - val_loss: 0.9915 - val_categorical_accuracy: 0.6667 - lr: 0.0010\n",
      "Epoch 46/50\n",
      "17/17 [==============================] - ETA: 0s - loss: 0.1316 - categorical_accuracy: 0.9487\n",
      "Epoch 46: saving model to model_init_2024-02-0608_19_04.003306/model-00046-0.13156-0.94872-1.80554-0.58333.h5\n",
      "17/17 [==============================] - 95s 6s/step - loss: 0.1316 - categorical_accuracy: 0.9487 - val_loss: 1.8055 - val_categorical_accuracy: 0.5833 - lr: 0.0010\n",
      "Epoch 47/50\n",
      "17/17 [==============================] - ETA: 0s - loss: 0.1434 - categorical_accuracy: 0.9457\n",
      "Epoch 47: saving model to model_init_2024-02-0608_19_04.003306/model-00047-0.14340-0.94570-4.08890-0.41667.h5\n",
      "17/17 [==============================] - 95s 6s/step - loss: 0.1434 - categorical_accuracy: 0.9457 - val_loss: 4.0889 - val_categorical_accuracy: 0.4167 - lr: 0.0010\n",
      "Epoch 48/50\n",
      "17/17 [==============================] - ETA: 0s - loss: 0.1346 - categorical_accuracy: 0.9487\n",
      "Epoch 48: saving model to model_init_2024-02-0608_19_04.003306/model-00048-0.13457-0.94872-1.71220-0.58333.h5\n",
      "17/17 [==============================] - 96s 6s/step - loss: 0.1346 - categorical_accuracy: 0.9487 - val_loss: 1.7122 - val_categorical_accuracy: 0.5833 - lr: 0.0010\n",
      "Epoch 49/50\n",
      "17/17 [==============================] - ETA: 0s - loss: 0.0934 - categorical_accuracy: 0.9698\n",
      "Epoch 49: saving model to model_init_2024-02-0608_19_04.003306/model-00049-0.09335-0.96983-0.50330-0.83333.h5\n",
      "17/17 [==============================] - 94s 6s/step - loss: 0.0934 - categorical_accuracy: 0.9698 - val_loss: 0.5033 - val_categorical_accuracy: 0.8333 - lr: 0.0010\n",
      "Epoch 50/50\n",
      "17/17 [==============================] - ETA: 0s - loss: 0.0949 - categorical_accuracy: 0.9744\n",
      "Epoch 50: saving model to model_init_2024-02-0608_19_04.003306/model-00050-0.09486-0.97436-0.83454-0.58333.h5\n",
      "17/17 [==============================] - 95s 6s/step - loss: 0.0949 - categorical_accuracy: 0.9744 - val_loss: 0.8345 - val_categorical_accuracy: 0.5833 - lr: 0.0010\n"
     ]
    }
   ],
   "source": [
    "history = model.fit(train_generator, steps_per_epoch=steps_per_epoch, epochs=num_epochs, verbose=1, \n",
    "                    callbacks=callbacks_list, validation_data=val_generator, \n",
    "                    validation_steps=validation_steps, class_weight=None, workers=1, initial_epoch=0)"
   ]
  },
  {
   "cell_type": "code",
   "execution_count": 24,
   "metadata": {},
   "outputs": [
    {
     "data": {
      "text/plain": [
       "<matplotlib.legend.Legend at 0x7fa50daa5c60>"
      ]
     },
     "execution_count": 24,
     "metadata": {},
     "output_type": "execute_result"
    },
    {
     "data": {
      "image/png": "[encoded data removed]",
      "text/plain": [
       "<Figure size 2000x600 with 2 Axes>"
      ]
     },
     "metadata": {},
     "output_type": "display_data"
    }
   ],
   "source": [
    "import matplotlib.pyplot as plt\n",
    "%matplotlib inline\n",
    "\n",
    "plt.figure(figsize=(20,6))\n",
    "ax1 = plt.subplot(121)\n",
    "ax1 = plt.plot(history.history['loss'])\n",
    "ax1 = plt.plot(history.history['val_loss'])\n",
    "plt.title('model loss')\n",
    "plt.ylabel('loss')\n",
    "plt.xlabel('epoch')\n",
    "plt.legend(['train', 'validation'], loc='lower left')\n",
    "ax2 = plt.subplot(122)\n",
    "ax2 = plt.plot(history.history['categorical_accuracy'])\n",
    "ax2 = plt.plot(history.history['val_categorical_accuracy'])\n",
    "plt.title('model accuracy')\n",
    "plt.ylabel('categorical_accuracy')\n",
    "plt.xlabel('epoch')\n",
    "plt.legend(['train', 'validation'], loc='lower left')"
   ]
  },
  {
   "cell_type": "code",
   "execution_count": null,
   "metadata": {},
   "outputs": [],
   "source": []
  },
  {
   "cell_type": "code",
   "execution_count": null,
   "metadata": {},
   "outputs": [],
   "source": []
  },
  {
   "cell_type": "code",
   "execution_count": null,
   "metadata": {},
   "outputs": [],
   "source": [
    "\n",
    "\n",
    "\n",
    "\n",
    "\n",
    "\n",
    "\n",
    "\n",
    "\n",
    "\n",
    "\n",
    "\n",
    "\n",
    "\n",
    "\n",
    "\n",
    "\n",
    "\n",
    "\n",
    "\n",
    "\n",
    "\n",
    "\n",
    "\n",
    "\n",
    "\n",
    "\n",
    "\n",
    "\n",
    "\n",
    "\n",
    "\n",
    "\n",
    "\n",
    "\n",
    "\n",
    "\n",
    "\n",
    "\n",
    "\n",
    "\n",
    "\n",
    "\n",
    "\n",
    "\n",
    "\n",
    "\n",
    "\n",
    "\n",
    "\n",
    "\n",
    "\n",
    "\n",
    "\n",
    "\n",
    "\n",
    "\n",
    "\n",
    "\n",
    "\n",
    "\n",
    "\n",
    "\n"
   ]
  }
 ],
 "metadata": {
  "kernelspec": {
   "display_name": "Python 3 (ipykernel)",
   "language": "python",
   "name": "python3"
  },
  "language_info": {
   "codemirror_mode": {
    "name": "ipython",
    "version": 3
   },
   "file_extension": ".py",
   "mimetype": "text/x-python",
   "name": "python",
   "nbconvert_exporter": "python",
   "pygments_lexer": "ipython3",
   "version": "3.10.12"
  }
 },
 "nbformat": 4,
 "nbformat_minor": 4
}
